{
 "cells": [
  {
   "cell_type": "code",
   "execution_count": 3,
   "metadata": {},
   "outputs": [],
   "source": [
    "import pandas as pd"
   ]
  },
  {
   "cell_type": "code",
   "execution_count": 4,
   "metadata": {},
   "outputs": [
    {
     "name": "stdout",
     "output_type": "stream",
     "text": [
      "algorithm                   domain                 problem \n",
      "issue1045-base-lm-exhaust   agricola-opt18-strips  p01.pddl     819252.0\n",
      "                                                   p02.pddl     728920.0\n",
      "                                                   p03.pddl     676960.0\n",
      "                                                   p04.pddl     653568.0\n",
      "                                                   p05.pddl     471436.0\n",
      "                                                                 ...    \n",
      "issue1045-v2-seq-opt-bjolp  zenotravel             p16.pddl    1515240.0\n",
      "                                                   p17.pddl    1322328.0\n",
      "                                                   p18.pddl    1440484.0\n",
      "                                                   p19.pddl    1194176.0\n",
      "                                                   p20.pddl    1286920.0\n",
      "Name: raw_memory, Length: 10962, dtype: float64\n"
     ]
    }
   ],
   "source": [
    "df = pd.read_json(\"http://ai.dmi.unibas.ch/_tmp_files/simon/properties\", orient=\"index\")\n",
    "df = df.set_index([\"algorithm\",\"domain\",\"problem\"])\n",
    "#df = df.unstack(level=-3)\n",
    "#df.columns = df.columns.get_level_values(1) + \"_\" + df.columns.get_level_values(0)\n",
    "\n",
    "print(df['raw_memory'])"
   ]
  },
  {
   "cell_type": "code",
   "execution_count": null,
   "metadata": {},
   "outputs": [],
   "source": []
  }
 ],
 "metadata": {
  "interpreter": {
   "hash": "767d51c1340bd893661ea55ea3124f6de3c7a262a8b4abca0554b478b1e2ff90"
  },
  "kernelspec": {
   "display_name": "Python 3.8.10 64-bit",
   "language": "python",
   "name": "python3"
  },
  "language_info": {
   "codemirror_mode": {
    "name": "ipython",
    "version": 3
   },
   "file_extension": ".py",
   "mimetype": "text/x-python",
   "name": "python",
   "nbconvert_exporter": "python",
   "pygments_lexer": "ipython3",
   "version": "3.8.10"
  },
  "orig_nbformat": 4
 },
 "nbformat": 4,
 "nbformat_minor": 2
}
